{
 "cells": [
  {
   "cell_type": "code",
   "execution_count": 1,
   "metadata": {},
   "outputs": [],
   "source": [
    "import pandas as pd"
   ]
  },
  {
   "cell_type": "code",
   "execution_count": 2,
   "metadata": {},
   "outputs": [
    {
     "data": {
      "text/html": [
       "<div>\n",
       "<style scoped>\n",
       "    .dataframe tbody tr th:only-of-type {\n",
       "        vertical-align: middle;\n",
       "    }\n",
       "\n",
       "    .dataframe tbody tr th {\n",
       "        vertical-align: top;\n",
       "    }\n",
       "\n",
       "    .dataframe thead th {\n",
       "        text-align: right;\n",
       "    }\n",
       "</style>\n",
       "<table border=\"1\" class=\"dataframe\">\n",
       "  <thead>\n",
       "    <tr style=\"text-align: right;\">\n",
       "      <th></th>\n",
       "      <th>Unnamed: 0</th>\n",
       "      <th>Recording_ID</th>\n",
       "      <th>English_name</th>\n",
       "      <th>Species</th>\n",
       "      <th>Country</th>\n",
       "      <th>Spectrogram_med</th>\n",
       "      <th>Date</th>\n",
       "      <th>Url</th>\n",
       "      <th>Latitude</th>\n",
       "      <th>Longitude</th>\n",
       "      <th>Vocalization_type</th>\n",
       "      <th>Recordist</th>\n",
       "      <th>mp3_url</th>\n",
       "    </tr>\n",
       "  </thead>\n",
       "  <tbody>\n",
       "    <tr>\n",
       "      <th>0</th>\n",
       "      <td>43</td>\n",
       "      <td>234032</td>\n",
       "      <td>Common Chaffinch</td>\n",
       "      <td>Fringilla coelebs</td>\n",
       "      <td>United Kingdom</td>\n",
       "      <td>//www.xeno-canto.org/sounds/uploaded/BTOFEKXFG...</td>\n",
       "      <td>3/15/2015</td>\n",
       "      <td>//www.xeno-canto.org/234032</td>\n",
       "      <td>54.1246</td>\n",
       "      <td>-0.5468</td>\n",
       "      <td>call, male, song</td>\n",
       "      <td>david m</td>\n",
       "      <td>//www.xeno-canto.org/sounds/uploaded/BTOFEKXFG...</td>\n",
       "    </tr>\n",
       "    <tr>\n",
       "      <th>1</th>\n",
       "      <td>44</td>\n",
       "      <td>168175</td>\n",
       "      <td>Common Chaffinch</td>\n",
       "      <td>Fringilla coelebs</td>\n",
       "      <td>United Kingdom</td>\n",
       "      <td>//www.xeno-canto.org/sounds/uploaded/BTOFEKXFG...</td>\n",
       "      <td>3/30/2012</td>\n",
       "      <td>//www.xeno-canto.org/168175</td>\n",
       "      <td>54.1248</td>\n",
       "      <td>-0.5719</td>\n",
       "      <td>male, song</td>\n",
       "      <td>david m</td>\n",
       "      <td>//www.xeno-canto.org/sounds/uploaded/BTOFEKXFG...</td>\n",
       "    </tr>\n",
       "    <tr>\n",
       "      <th>2</th>\n",
       "      <td>45</td>\n",
       "      <td>213928</td>\n",
       "      <td>Common Chaffinch</td>\n",
       "      <td>Fringilla coelebs</td>\n",
       "      <td>United Kingdom</td>\n",
       "      <td>//www.xeno-canto.org/sounds/uploaded/BTOFEKXFG...</td>\n",
       "      <td>2/15/2015</td>\n",
       "      <td>//www.xeno-canto.org/213928</td>\n",
       "      <td>54.1246</td>\n",
       "      <td>-0.5702</td>\n",
       "      <td>male, song</td>\n",
       "      <td>david m</td>\n",
       "      <td>//www.xeno-canto.org/sounds/uploaded/BTOFEKXFG...</td>\n",
       "    </tr>\n",
       "    <tr>\n",
       "      <th>3</th>\n",
       "      <td>46</td>\n",
       "      <td>512407</td>\n",
       "      <td>Common Chaffinch</td>\n",
       "      <td>Fringilla coelebs</td>\n",
       "      <td>Poland</td>\n",
       "      <td>//www.xeno-canto.org/sounds/uploaded/ZNCDXTUOF...</td>\n",
       "      <td>6/22/2015</td>\n",
       "      <td>//www.xeno-canto.org/512407</td>\n",
       "      <td>52.3724</td>\n",
       "      <td>20.6421</td>\n",
       "      <td>adult, male, song</td>\n",
       "      <td>Jarek Matusiak</td>\n",
       "      <td>//www.xeno-canto.org/sounds/uploaded/ZNCDXTUOF...</td>\n",
       "    </tr>\n",
       "    <tr>\n",
       "      <th>4</th>\n",
       "      <td>47</td>\n",
       "      <td>177404</td>\n",
       "      <td>Common Chaffinch</td>\n",
       "      <td>Fringilla coelebs</td>\n",
       "      <td>United Kingdom</td>\n",
       "      <td>//www.xeno-canto.org/sounds/uploaded/BTOFEKXFG...</td>\n",
       "      <td>3/8/2014</td>\n",
       "      <td>//www.xeno-canto.org/177404</td>\n",
       "      <td>54.1288</td>\n",
       "      <td>-0.5471</td>\n",
       "      <td>call, male, song</td>\n",
       "      <td>david m</td>\n",
       "      <td>//www.xeno-canto.org/sounds/uploaded/BTOFEKXFG...</td>\n",
       "    </tr>\n",
       "  </tbody>\n",
       "</table>\n",
       "</div>"
      ],
      "text/plain": [
       "   Unnamed: 0  Recording_ID      English_name            Species  \\\n",
       "0          43        234032  Common Chaffinch  Fringilla coelebs   \n",
       "1          44        168175  Common Chaffinch  Fringilla coelebs   \n",
       "2          45        213928  Common Chaffinch  Fringilla coelebs   \n",
       "3          46        512407  Common Chaffinch  Fringilla coelebs   \n",
       "4          47        177404  Common Chaffinch  Fringilla coelebs   \n",
       "\n",
       "          Country                                    Spectrogram_med  \\\n",
       "0  United Kingdom  //www.xeno-canto.org/sounds/uploaded/BTOFEKXFG...   \n",
       "1  United Kingdom  //www.xeno-canto.org/sounds/uploaded/BTOFEKXFG...   \n",
       "2  United Kingdom  //www.xeno-canto.org/sounds/uploaded/BTOFEKXFG...   \n",
       "3          Poland  //www.xeno-canto.org/sounds/uploaded/ZNCDXTUOF...   \n",
       "4  United Kingdom  //www.xeno-canto.org/sounds/uploaded/BTOFEKXFG...   \n",
       "\n",
       "        Date                          Url  Latitude  Longitude  \\\n",
       "0  3/15/2015  //www.xeno-canto.org/234032   54.1246    -0.5468   \n",
       "1  3/30/2012  //www.xeno-canto.org/168175   54.1248    -0.5719   \n",
       "2  2/15/2015  //www.xeno-canto.org/213928   54.1246    -0.5702   \n",
       "3  6/22/2015  //www.xeno-canto.org/512407   52.3724    20.6421   \n",
       "4   3/8/2014  //www.xeno-canto.org/177404   54.1288    -0.5471   \n",
       "\n",
       "   Vocalization_type       Recordist  \\\n",
       "0   call, male, song         david m   \n",
       "1         male, song         david m   \n",
       "2         male, song         david m   \n",
       "3  adult, male, song  Jarek Matusiak   \n",
       "4   call, male, song         david m   \n",
       "\n",
       "                                             mp3_url  \n",
       "0  //www.xeno-canto.org/sounds/uploaded/BTOFEKXFG...  \n",
       "1  //www.xeno-canto.org/sounds/uploaded/BTOFEKXFG...  \n",
       "2  //www.xeno-canto.org/sounds/uploaded/BTOFEKXFG...  \n",
       "3  //www.xeno-canto.org/sounds/uploaded/ZNCDXTUOF...  \n",
       "4  //www.xeno-canto.org/sounds/uploaded/BTOFEKXFG...  "
      ]
     },
     "execution_count": 2,
     "metadata": {},
     "output_type": "execute_result"
    }
   ],
   "source": [
    "df = pd.read_csv('c:/users/ktauf/documents/github/final-project-du/web page/bird_sightings.csv')\n",
    "df.head()"
   ]
  },
  {
   "cell_type": "code",
   "execution_count": 3,
   "metadata": {},
   "outputs": [],
   "source": [
    "species = []\n",
    "common_name = []\n",
    "\n",
    "for index, row in df.iterrows():\n",
    "    sp = row['Species']\n",
    "    cn = row['English_name']\n",
    "    if sp not in species and cn not in common_name:\n",
    "        species.append(sp)\n",
    "        common_name.append(cn)\n",
    "    else:\n",
    "        pass"
   ]
  },
  {
   "cell_type": "code",
   "execution_count": 4,
   "metadata": {},
   "outputs": [
    {
     "data": {
      "text/plain": [
       "49"
      ]
     },
     "execution_count": 4,
     "metadata": {},
     "output_type": "execute_result"
    }
   ],
   "source": [
    "len(species)"
   ]
  },
  {
   "cell_type": "code",
   "execution_count": 5,
   "metadata": {},
   "outputs": [
    {
     "data": {
      "text/plain": [
       "49"
      ]
     },
     "execution_count": 5,
     "metadata": {},
     "output_type": "execute_result"
    }
   ],
   "source": [
    "len(common_name)"
   ]
  },
  {
   "cell_type": "code",
   "execution_count": 67,
   "metadata": {},
   "outputs": [
    {
     "data": {
      "text/html": [
       "<div>\n",
       "<style scoped>\n",
       "    .dataframe tbody tr th:only-of-type {\n",
       "        vertical-align: middle;\n",
       "    }\n",
       "\n",
       "    .dataframe tbody tr th {\n",
       "        vertical-align: top;\n",
       "    }\n",
       "\n",
       "    .dataframe thead th {\n",
       "        text-align: right;\n",
       "    }\n",
       "</style>\n",
       "<table border=\"1\" class=\"dataframe\">\n",
       "  <thead>\n",
       "    <tr style=\"text-align: right;\">\n",
       "      <th></th>\n",
       "      <th>Species</th>\n",
       "      <th>Common Name</th>\n",
       "    </tr>\n",
       "  </thead>\n",
       "  <tbody>\n",
       "    <tr>\n",
       "      <th>0</th>\n",
       "      <td>Fringilla coelebs</td>\n",
       "      <td>Common Chaffinch</td>\n",
       "    </tr>\n",
       "    <tr>\n",
       "      <th>1</th>\n",
       "      <td>Parus major</td>\n",
       "      <td>Great Tit</td>\n",
       "    </tr>\n",
       "    <tr>\n",
       "      <th>2</th>\n",
       "      <td>Turdus merula</td>\n",
       "      <td>Common Blackbird</td>\n",
       "    </tr>\n",
       "    <tr>\n",
       "      <th>3</th>\n",
       "      <td>Turdus philomelos</td>\n",
       "      <td>Song Thrush</td>\n",
       "    </tr>\n",
       "    <tr>\n",
       "      <th>4</th>\n",
       "      <td>Sylvia communis</td>\n",
       "      <td>Common Whitethroat</td>\n",
       "    </tr>\n",
       "  </tbody>\n",
       "</table>\n",
       "</div>"
      ],
      "text/plain": [
       "             Species         Common Name\n",
       "0  Fringilla coelebs    Common Chaffinch\n",
       "1        Parus major           Great Tit\n",
       "2      Turdus merula    Common Blackbird\n",
       "3  Turdus philomelos         Song Thrush\n",
       "4    Sylvia communis  Common Whitethroat"
      ]
     },
     "execution_count": 67,
     "metadata": {},
     "output_type": "execute_result"
    }
   ],
   "source": [
    "species_df = pd.DataFrame({'Species': species, 'Common Name': common_name})\n",
    "\n",
    "species_df.head()"
   ]
  },
  {
   "cell_type": "code",
   "execution_count": 68,
   "metadata": {},
   "outputs": [
    {
     "data": {
      "text/html": [
       "<div>\n",
       "<style scoped>\n",
       "    .dataframe tbody tr th:only-of-type {\n",
       "        vertical-align: middle;\n",
       "    }\n",
       "\n",
       "    .dataframe tbody tr th {\n",
       "        vertical-align: top;\n",
       "    }\n",
       "\n",
       "    .dataframe thead th {\n",
       "        text-align: right;\n",
       "    }\n",
       "</style>\n",
       "<table border=\"1\" class=\"dataframe\">\n",
       "  <thead>\n",
       "    <tr style=\"text-align: right;\">\n",
       "      <th></th>\n",
       "      <th>Common Name</th>\n",
       "      <th>Species</th>\n",
       "    </tr>\n",
       "  </thead>\n",
       "  <tbody>\n",
       "    <tr>\n",
       "      <th>29</th>\n",
       "      <td>Barn Swallow</td>\n",
       "      <td>Hirundo rustica</td>\n",
       "    </tr>\n",
       "    <tr>\n",
       "      <th>23</th>\n",
       "      <td>Bluethroat</td>\n",
       "      <td>Luscinia svecica</td>\n",
       "    </tr>\n",
       "    <tr>\n",
       "      <th>17</th>\n",
       "      <td>Blyth's Reed Warbler</td>\n",
       "      <td>Acrocephalus dumetorum</td>\n",
       "    </tr>\n",
       "    <tr>\n",
       "      <th>27</th>\n",
       "      <td>Boreal Owl</td>\n",
       "      <td>Aegolius funereus</td>\n",
       "    </tr>\n",
       "    <tr>\n",
       "      <th>30</th>\n",
       "      <td>Cirl Bunting</td>\n",
       "      <td>Emberiza cirlus</td>\n",
       "    </tr>\n",
       "  </tbody>\n",
       "</table>\n",
       "</div>"
      ],
      "text/plain": [
       "             Common Name                 Species\n",
       "29          Barn Swallow         Hirundo rustica\n",
       "23            Bluethroat        Luscinia svecica\n",
       "17  Blyth's Reed Warbler  Acrocephalus dumetorum\n",
       "27            Boreal Owl       Aegolius funereus\n",
       "30          Cirl Bunting         Emberiza cirlus"
      ]
     },
     "execution_count": 68,
     "metadata": {},
     "output_type": "execute_result"
    }
   ],
   "source": [
    "species_df = species_df.sort_values('Common Name')\n",
    "\n",
    "species_df = species_df[['Common Name', 'Species']]\n",
    "\n",
    "species_df.head()"
   ]
  },
  {
   "cell_type": "code",
   "execution_count": 69,
   "metadata": {},
   "outputs": [
    {
     "data": {
      "text/html": [
       "<div>\n",
       "<style scoped>\n",
       "    .dataframe tbody tr th:only-of-type {\n",
       "        vertical-align: middle;\n",
       "    }\n",
       "\n",
       "    .dataframe tbody tr th {\n",
       "        vertical-align: top;\n",
       "    }\n",
       "\n",
       "    .dataframe thead th {\n",
       "        text-align: right;\n",
       "    }\n",
       "</style>\n",
       "<table border=\"1\" class=\"dataframe\">\n",
       "  <thead>\n",
       "    <tr style=\"text-align: right;\">\n",
       "      <th></th>\n",
       "      <th>Common Name</th>\n",
       "      <th>Species</th>\n",
       "    </tr>\n",
       "  </thead>\n",
       "  <tbody>\n",
       "    <tr>\n",
       "      <th>0</th>\n",
       "      <td>Barn Swallow</td>\n",
       "      <td>Hirundo rustica</td>\n",
       "    </tr>\n",
       "    <tr>\n",
       "      <th>1</th>\n",
       "      <td>Bluethroat</td>\n",
       "      <td>Luscinia svecica</td>\n",
       "    </tr>\n",
       "    <tr>\n",
       "      <th>2</th>\n",
       "      <td>Blyth's Reed Warbler</td>\n",
       "      <td>Acrocephalus dumetorum</td>\n",
       "    </tr>\n",
       "    <tr>\n",
       "      <th>3</th>\n",
       "      <td>Boreal Owl</td>\n",
       "      <td>Aegolius funereus</td>\n",
       "    </tr>\n",
       "    <tr>\n",
       "      <th>4</th>\n",
       "      <td>Cirl Bunting</td>\n",
       "      <td>Emberiza cirlus</td>\n",
       "    </tr>\n",
       "  </tbody>\n",
       "</table>\n",
       "</div>"
      ],
      "text/plain": [
       "            Common Name                 Species\n",
       "0          Barn Swallow         Hirundo rustica\n",
       "1            Bluethroat        Luscinia svecica\n",
       "2  Blyth's Reed Warbler  Acrocephalus dumetorum\n",
       "3            Boreal Owl       Aegolius funereus\n",
       "4          Cirl Bunting         Emberiza cirlus"
      ]
     },
     "execution_count": 69,
     "metadata": {},
     "output_type": "execute_result"
    }
   ],
   "source": [
    "species_df = species_df.reset_index(drop=True)\n",
    "\n",
    "species_df.head()"
   ]
  },
  {
   "cell_type": "code",
   "execution_count": 70,
   "metadata": {},
   "outputs": [],
   "source": [
    "species_df.to_html('species_table.html', index=False)"
   ]
  },
  {
   "cell_type": "code",
   "execution_count": 28,
   "metadata": {},
   "outputs": [
    {
     "data": {
      "text/plain": [
       "array([234032, 168175, 213928, ..., 201176, 408254, 309791], dtype=int64)"
      ]
     },
     "execution_count": 28,
     "metadata": {},
     "output_type": "execute_result"
    }
   ],
   "source": [
    "recording_id = df['Recording_ID'].unique()\n",
    "\n",
    "recording_id"
   ]
  },
  {
   "cell_type": "code",
   "execution_count": 34,
   "metadata": {},
   "outputs": [
    {
     "name": "stdout",
     "output_type": "stream",
     "text": [
      "good recording\n"
     ]
    }
   ],
   "source": [
    "new_id = 560337\n",
    "\n",
    "if new_id in recording_id:\n",
    "    print('recording already in use')\n",
    "else:\n",
    "    print('good recording')"
   ]
  },
  {
   "cell_type": "code",
   "execution_count": null,
   "metadata": {},
   "outputs": [],
   "source": []
  }
 ],
 "metadata": {
  "kernelspec": {
   "display_name": "Python 3",
   "language": "python",
   "name": "python3"
  },
  "language_info": {
   "codemirror_mode": {
    "name": "ipython",
    "version": 3
   },
   "file_extension": ".py",
   "mimetype": "text/x-python",
   "name": "python",
   "nbconvert_exporter": "python",
   "pygments_lexer": "ipython3",
   "version": "3.7.3"
  }
 },
 "nbformat": 4,
 "nbformat_minor": 4
}
