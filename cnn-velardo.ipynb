{
 "cells": [
  {
   "cell_type": "code",
   "execution_count": 1,
   "metadata": {},
   "outputs": [],
   "source": [
    "import json\n",
    "import numpy as np\n",
    "from sklearn.model_selection import train_test_split\n",
    "from sklearn.preprocessing import LabelEncoder\n",
    "import tensorflow.keras as keras\n",
    "import matplotlib.pyplot as plt"
   ]
  },
  {
   "cell_type": "code",
   "execution_count": 2,
   "metadata": {},
   "outputs": [],
   "source": [
    "def load_data(data_path):\n",
    "\n",
    "    with open(data_path, 'r') as fp:\n",
    "        data = json.load(fp)\n",
    "\n",
    "    X = np.array(data['mfcc'])\n",
    "    y = np.array(data['species'])\n",
    "\n",
    "    return X, y"
   ]
  },
  {
   "cell_type": "code",
   "execution_count": 3,
   "metadata": {},
   "outputs": [],
   "source": [
    "def prepare_datasets(test_size, validation_size):\n",
    "    \n",
    "    X, y = load_data(dataset_path)\n",
    "\n",
    "    label_encoder = LabelEncoder()\n",
    "    label_encoder.fit(y)\n",
    "    new_y = label_encoder.transform(y)\n",
    "    new_y = new_y.reshape(-1, 1)\n",
    "\n",
    "    X_train, X_test, y_train, y_test = train_test_split(X, new_y, test_size = test_size)\n",
    "\n",
    "    X_train, X_validation, y_train, y_validation = train_test_split(X_train, y_train, test_size = validation_size)\n",
    "    \n",
    "    X_train = X_train[..., np.newaxis]\n",
    "    X_validation = X_validation[..., np.newaxis]\n",
    "    X_test = X_test[..., np.newaxis]\n",
    "\n",
    "    return X_train, X_validation, X_test, y_train, y_validation, y_test"
   ]
  },
  {
   "cell_type": "code",
   "execution_count": 4,
   "metadata": {},
   "outputs": [],
   "source": [
    "def build_model(input_shape):\n",
    "    # sequential model\n",
    "    model = keras.Sequential()\n",
    "    # first convolutional layer\n",
    "    model.add(keras.layers.Conv2D(32, (3, 3), activation = 'relu', input_shape = input_shape))\n",
    "    model.add(keras.layers.MaxPool2D((3, 3), strides = (2, 2), padding = 'same'))\n",
    "    model.add(keras.layers.BatchNormalization())\n",
    "    # second convolutional layer\n",
    "    model.add(keras.layers.Conv2D(32, (3, 3), activation = 'relu', input_shape = input_shape))\n",
    "    model.add(keras.layers.MaxPool2D((3, 3), strides = (2, 2), padding = 'same'))\n",
    "    model.add(keras.layers.BatchNormalization())\n",
    "    # third convolutional layer\n",
    "    model.add(keras.layers.Conv2D(32, (2, 2), activation = 'relu', input_shape = input_shape))\n",
    "    model.add(keras.layers.MaxPool2D((2, 2), strides = (2, 2), padding = 'same'))\n",
    "    model.add(keras.layers.BatchNormalization())\n",
    "    # flatten layers, feed into dense layer\n",
    "    model.add(keras.layers.Flatten())\n",
    "    model.add(keras.layers.Dense(64, activation = 'relu'))\n",
    "    model.add(keras.layers.Dropout(0.3))\n",
    "    # output layer\n",
    "    model.add(keras.layers.Dense(49, activation = 'softmax'))\n",
    "\n",
    "    return model"
   ]
  },
  {
   "cell_type": "code",
   "execution_count": 5,
   "metadata": {},
   "outputs": [],
   "source": [
    "def plot_history(history):\n",
    "    \n",
    "    fig, axis = plt.subplots(2)\n",
    "    axis[0].plot(history.history['accuracy'], label = 'train accuracy')\n",
    "    axis[0].plot(history.history['val_accuracy'], label = 'validation accuracy')\n",
    "    axis[0].set_ylabel(\"Accuracy\")\n",
    "    axis[0].legend(loc = 'lower right')\n",
    "    axis[0].set_title('Accuracy Eval')\n",
    "    \n",
    "    axis[1].plot(history.history['loss'], label = 'train error')\n",
    "    axis[1].plot(history.history['val_loss'], label = 'validation error')\n",
    "    axis[1].set_ylabel(\"Error\")\n",
    "    axis[1].set_ylabel('Epoch')\n",
    "    axis[1].legend(loc = 'upper right')\n",
    "    axis[1].set_title('Error Eval')\n",
    "    \n",
    "    plt.show()"
   ]
  },
  {
   "cell_type": "code",
   "execution_count": 6,
   "metadata": {},
   "outputs": [],
   "source": [
    "def predict(model, X, y):\n",
    "\n",
    "    X = X[np.newaxis, ...]\n",
    "    prediction = model.predict(X)\n",
    "    predicted_index = np.argmax(prediction, axis = 1)\n",
    "    print('Expected index: {}, Predicted index:{}'.format(y, predicted_index))"
   ]
  },
  {
   "cell_type": "code",
   "execution_count": 7,
   "metadata": {},
   "outputs": [],
   "source": [
    "dataset_path = 'c:/users/ktauf/documents/github/finalproject_data_files/data_5segments_40mfccs.json'\n"
   ]
  },
  {
   "cell_type": "code",
   "execution_count": 8,
   "metadata": {},
   "outputs": [
    {
     "name": "stdout",
     "output_type": "stream",
     "text": [
      "Train on 6308 samples, validate on 1577 samples\n",
      "Epoch 1/25\n",
      "6308/6308 - 64s - loss: 3.8736 - accuracy: 0.0442 - val_loss: 3.7602 - val_accuracy: 0.0780\n",
      "Epoch 2/25\n",
      "6308/6308 - 39s - loss: 3.6344 - accuracy: 0.0948 - val_loss: 3.5057 - val_accuracy: 0.1414\n",
      "Epoch 3/25\n",
      "6308/6308 - 40s - loss: 3.3963 - accuracy: 0.1479 - val_loss: 3.3146 - val_accuracy: 0.1680\n",
      "Epoch 4/25\n",
      "6308/6308 - 40s - loss: 3.1896 - accuracy: 0.1906 - val_loss: 3.1465 - val_accuracy: 0.2074\n",
      "Epoch 5/25\n",
      "6308/6308 - 40s - loss: 3.0053 - accuracy: 0.2278 - val_loss: 2.9932 - val_accuracy: 0.2517\n",
      "Epoch 6/25\n",
      "6308/6308 - 40s - loss: 2.8078 - accuracy: 0.2712 - val_loss: 2.9005 - val_accuracy: 0.2714\n",
      "Epoch 7/25\n",
      "6308/6308 - 41s - loss: 2.6304 - accuracy: 0.3125 - val_loss: 2.7833 - val_accuracy: 0.3025\n",
      "Epoch 8/25\n",
      "6308/6308 - 41s - loss: 2.4562 - accuracy: 0.3519 - val_loss: 2.7113 - val_accuracy: 0.3120\n",
      "Epoch 9/25\n",
      "6308/6308 - 41s - loss: 2.3109 - accuracy: 0.3927 - val_loss: 2.6156 - val_accuracy: 0.3354\n",
      "Epoch 10/25\n",
      "6308/6308 - 42s - loss: 2.1781 - accuracy: 0.4150 - val_loss: 2.5837 - val_accuracy: 0.3335\n",
      "Epoch 11/25\n",
      "6308/6308 - 41s - loss: 2.0322 - accuracy: 0.4496 - val_loss: 2.5066 - val_accuracy: 0.3393\n",
      "Epoch 12/25\n",
      "6308/6308 - 41s - loss: 1.8918 - accuracy: 0.4925 - val_loss: 2.4675 - val_accuracy: 0.3456\n",
      "Epoch 13/25\n",
      "6308/6308 - 40s - loss: 1.7888 - accuracy: 0.5127 - val_loss: 2.4402 - val_accuracy: 0.3602\n",
      "Epoch 14/25\n",
      "6308/6308 - 41s - loss: 1.6536 - accuracy: 0.5510 - val_loss: 2.4102 - val_accuracy: 0.3684\n",
      "Epoch 15/25\n",
      "6308/6308 - 41s - loss: 1.5483 - accuracy: 0.5734 - val_loss: 2.3877 - val_accuracy: 0.3672\n",
      "Epoch 16/25\n",
      "6308/6308 - 41s - loss: 1.4582 - accuracy: 0.6075 - val_loss: 2.4030 - val_accuracy: 0.3735\n",
      "Epoch 17/25\n",
      "6308/6308 - 41s - loss: 1.3697 - accuracy: 0.6278 - val_loss: 2.3710 - val_accuracy: 0.3735\n",
      "Epoch 18/25\n",
      "6308/6308 - 41s - loss: 1.2646 - accuracy: 0.6568 - val_loss: 2.3617 - val_accuracy: 0.3830\n",
      "Epoch 19/25\n",
      "6308/6308 - 40s - loss: 1.1763 - accuracy: 0.6898 - val_loss: 2.3304 - val_accuracy: 0.3836\n",
      "Epoch 20/25\n",
      "6308/6308 - 41s - loss: 1.1114 - accuracy: 0.7062 - val_loss: 2.3519 - val_accuracy: 0.3887\n",
      "Epoch 21/25\n",
      "6308/6308 - 41s - loss: 1.0237 - accuracy: 0.7330 - val_loss: 2.3506 - val_accuracy: 0.3906\n",
      "Epoch 22/25\n",
      "6308/6308 - 41s - loss: 0.9925 - accuracy: 0.7300 - val_loss: 2.3495 - val_accuracy: 0.3849\n",
      "Epoch 23/25\n",
      "6308/6308 - 41s - loss: 0.9122 - accuracy: 0.7616 - val_loss: 2.3866 - val_accuracy: 0.3729\n",
      "Epoch 24/25\n",
      "6308/6308 - 41s - loss: 0.8398 - accuracy: 0.7825 - val_loss: 2.4003 - val_accuracy: 0.3805\n",
      "Epoch 25/25\n",
      "6308/6308 - 41s - loss: 0.7951 - accuracy: 0.7887 - val_loss: 2.4044 - val_accuracy: 0.3805\n"
     ]
    },
    {
     "data": {
      "image/png": "[encoded data removed]",
      "text/plain": [
       "<Figure size 432x288 with 2 Axes>"
      ]
     },
     "metadata": {
      "needs_background": "light"
     },
     "output_type": "display_data"
    },
    {
     "name": "stdout",
     "output_type": "stream",
     "text": [
      "Model: \"sequential\"\n",
      "_________________________________________________________________\n",
      "Layer (type)                 Output Shape              Param #   \n",
      "=================================================================\n",
      "conv2d (Conv2D)              (None, 257, 38, 32)       320       \n",
      "_________________________________________________________________\n",
      "max_pooling2d (MaxPooling2D) (None, 129, 19, 32)       0         \n",
      "_________________________________________________________________\n",
      "batch_normalization (BatchNo (None, 129, 19, 32)       128       \n",
      "_________________________________________________________________\n",
      "conv2d_1 (Conv2D)            (None, 127, 17, 32)       9248      \n",
      "_________________________________________________________________\n",
      "max_pooling2d_1 (MaxPooling2 (None, 64, 9, 32)         0         \n",
      "_________________________________________________________________\n",
      "batch_normalization_1 (Batch (None, 64, 9, 32)         128       \n",
      "_________________________________________________________________\n",
      "conv2d_2 (Conv2D)            (None, 63, 8, 32)         4128      \n",
      "_________________________________________________________________\n",
      "max_pooling2d_2 (MaxPooling2 (None, 32, 4, 32)         0         \n",
      "_________________________________________________________________\n",
      "batch_normalization_2 (Batch (None, 32, 4, 32)         128       \n",
      "_________________________________________________________________\n",
      "flatten (Flatten)            (None, 4096)              0         \n",
      "_________________________________________________________________\n",
      "dense (Dense)                (None, 64)                262208    \n",
      "_________________________________________________________________\n",
      "dropout (Dropout)            (None, 64)                0         \n",
      "_________________________________________________________________\n",
      "dense_1 (Dense)              (None, 49)                3185      \n",
      "=================================================================\n",
      "Total params: 279,473\n",
      "Trainable params: 279,281\n",
      "Non-trainable params: 192\n",
      "_________________________________________________________________\n"
     ]
    }
   ],
   "source": [
    "if __name__ == '__main__':\n",
    "\n",
    "    X_train, X_validation, X_test, y_train, y_validation, y_test = prepare_datasets(0.25, 0.2)\n",
    "\n",
    "    input_shape = (X_train.shape[1], X_train.shape[2], X_train.shape[3])\n",
    "    model = build_model(input_shape)\n",
    "\n",
    "    optimizer = keras.optimizers.Adam(learning_rate = 0.0001)\n",
    "    model.compile(optimizer = optimizer, loss = 'sparse_categorical_crossentropy', metrics = ['accuracy'])\n",
    "\n",
    "    history = model.fit(X_train, y_train, validation_data = (X_validation, y_validation),\n",
    "                        batch_size = 32, epochs = 25, verbose = 2)\n",
    "    \n",
    "    plot_history(history)\n",
    "    \n",
    "    model.summary()\n",
    "    "
   ]
  },
  {
   "cell_type": "code",
   "execution_count": 9,
   "metadata": {},
   "outputs": [
    {
     "name": "stdout",
     "output_type": "stream",
     "text": [
      "2629/2629 - 4s - loss: 2.4202 - accuracy: 0.3830\n"
     ]
    }
   ],
   "source": [
    "test_error, test_accuracy = model.evaluate(X_test, y_test, verbose = 2)\n",
    "\n",
    "\n"
   ]
  },
  {
   "cell_type": "code",
   "execution_count": 11,
   "metadata": {},
   "outputs": [
    {
     "name": "stdout",
     "output_type": "stream",
     "text": [
      "Expected index: [10], Predicted index:[18]\n"
     ]
    }
   ],
   "source": [
    "X = X_test[300]\n",
    "y = y_test[300]\n",
    "predict(model, X, y)"
   ]
  },
  {
   "cell_type": "code",
   "execution_count": null,
   "metadata": {},
   "outputs": [],
   "source": []
  }
 ],
 "metadata": {
  "kernelspec": {
   "display_name": "Python 3",
   "language": "python",
   "name": "python3"
  },
  "language_info": {
   "codemirror_mode": {
    "name": "ipython",
    "version": 3
   },
   "file_extension": ".py",
   "mimetype": "text/x-python",
   "name": "python",
   "nbconvert_exporter": "python",
   "pygments_lexer": "ipython3",
   "version": "3.7.3"
  }
 },
 "nbformat": 4,
 "nbformat_minor": 4
}
