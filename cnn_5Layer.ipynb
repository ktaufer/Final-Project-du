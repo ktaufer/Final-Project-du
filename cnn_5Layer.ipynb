{
 "cells": [
  {
   "cell_type": "code",
   "execution_count": 1,
   "metadata": {},
   "outputs": [],
   "source": [
    "import json\n",
    "import numpy as np\n",
    "from sklearn.model_selection import train_test_split\n",
    "from sklearn.preprocessing import LabelEncoder\n",
    "import tensorflow.keras as keras\n",
    "import matplotlib.pyplot as plt"
   ]
  },
  {
   "cell_type": "code",
   "execution_count": 2,
   "metadata": {},
   "outputs": [],
   "source": [
    "def load_data(data_path):\n",
    "\n",
    "    with open(data_path, 'r') as fp:\n",
    "        data = json.load(fp)\n",
    "\n",
    "    X = np.array(data['mfcc'])\n",
    "    y = np.array(data['species'])\n",
    "\n",
    "    return X, y"
   ]
  },
  {
   "cell_type": "code",
   "execution_count": 3,
   "metadata": {},
   "outputs": [],
   "source": [
    "def prepare_datasets(test_size, validation_size):\n",
    "    \n",
    "    X, y = load_data(dataset_path)\n",
    "\n",
    "    label_encoder = LabelEncoder()\n",
    "    label_encoder.fit(y)\n",
    "    new_y = label_encoder.transform(y)\n",
    "    new_y = new_y.reshape(-1, 1)\n",
    "\n",
    "    X_train, X_test, y_train, y_test = train_test_split(X, new_y, test_size = test_size)\n",
    "\n",
    "    X_train, X_validation, y_train, y_validation = train_test_split(X_train, y_train, test_size = validation_size)\n",
    "    \n",
    "    X_train = X_train[..., np.newaxis]\n",
    "    X_validation = X_validation[..., np.newaxis]\n",
    "    X_test = X_test[..., np.newaxis]\n",
    "\n",
    "    return X_train, X_validation, X_test, y_train, y_validation, y_test"
   ]
  },
  {
   "cell_type": "code",
   "execution_count": 4,
   "metadata": {},
   "outputs": [],
   "source": [
    "def build_model(input_shape):\n",
    "    # sequential model\n",
    "    model = keras.Sequential()\n",
    "    # input layer\n",
    "    model.add(keras.layers.Conv2D(32, (2, 2), input_shape=input_shape, activation='relu'))\n",
    "    model.add(keras.layers.MaxPooling2D((2, 2), strides = (2, 2), padding = 'same'))\n",
    "    model.add(keras.layers.BatchNormalization())\n",
    "    model.add(keras.layers.Dropout(0.2))\n",
    "    # second convolutional layer\n",
    "    model.add(keras.layers.Conv2D(32, (2, 2), activation='relu'))\n",
    "    model.add(keras.layers.MaxPooling2D((2, 2), strides = (2, 2), padding = 'same'))\n",
    "    model.add(keras.layers.BatchNormalization())\n",
    "    model.add(keras.layers.Dropout(0.2))\n",
    "    # third convolutional layer\n",
    "    model.add(keras.layers.Conv2D(64, (2, 2), activation='relu'))\n",
    "    model.add(keras.layers.MaxPooling2D((2, 2), strides = (2, 2), padding = 'same'))\n",
    "    model.add(keras.layers.BatchNormalization())\n",
    "    model.add(keras.layers.Dropout(0.2))\n",
    "    model.add(keras.layers.GlobalAveragePooling2D())\n",
    "    # flatten/dense layer    \n",
    "    model.add(keras.layers.Flatten())\n",
    "    model.add(keras.layers.Dense(64, activation = 'relu'))\n",
    "    model.add(keras.layers.Dropout(0.2))\n",
    "    # output layer\n",
    "    model.add(keras.layers.Dense(49, activation='softmax'))\n",
    "\n",
    "    return model"
   ]
  },
  {
   "cell_type": "code",
   "execution_count": 5,
   "metadata": {},
   "outputs": [],
   "source": [
    "def plot_history(history):\n",
    "    \n",
    "    fig, axis = plt.subplots(2)\n",
    "    axis[0].plot(history.history['accuracy'], label = 'train accuracy')\n",
    "    axis[0].plot(history.history['val_accuracy'], label = 'validation accuracy')\n",
    "    axis[0].set_ylabel(\"Accuracy\")\n",
    "    axis[0].legend(loc = 'lower right')\n",
    "    axis[0].set_title('Accuracy Eval')\n",
    "    \n",
    "    axis[1].plot(history.history['loss'], label = 'train error')\n",
    "    axis[1].plot(history.history['val_loss'], label = 'validation error')\n",
    "    axis[1].set_ylabel(\"Error\")\n",
    "    axis[1].set_ylabel('Epoch')\n",
    "    axis[1].legend(loc = 'upper right')\n",
    "    axis[1].set_title('Error Eval')\n",
    "    \n",
    "    plt.show()"
   ]
  },
  {
   "cell_type": "code",
   "execution_count": 6,
   "metadata": {},
   "outputs": [],
   "source": [
    "def predict(model, X, y):\n",
    "\n",
    "    X = X[np.newaxis, ...]\n",
    "    prediction = model.predict(X)\n",
    "    predicted_index = np.argmax(prediction, axis = 1)\n",
    "    print('Expected index: {}, Predicted index:{}'.format(y, predicted_index))"
   ]
  },
  {
   "cell_type": "code",
   "execution_count": 7,
   "metadata": {},
   "outputs": [],
   "source": [
    "dataset_path = 'c:/users/ktauf/documents/github/finalproject_data_files/data_5segments_40mfccs.json'\n"
   ]
  },
  {
   "cell_type": "code",
   "execution_count": null,
   "metadata": {},
   "outputs": [],
   "source": [
    "if __name__ == '__main__':\n",
    "\n",
    "    X_train, X_validation, X_test, y_train, y_validation, y_test = prepare_datasets(0.25, 0.2)\n",
    "\n",
    "    input_shape = (X_train.shape[1], X_train.shape[2], X_train.shape[3])\n",
    "    model = build_model(input_shape)\n",
    "\n",
    "    optimizer = keras.optimizers.Adam(learning_rate = 0.0001)\n",
    "    model.compile(optimizer = optimizer, loss = 'sparse_categorical_crossentropy', metrics = ['accuracy'])\n",
    "\n",
    "    history = model.fit(X_train, y_train, validation_data = (X_validation, y_validation),\n",
    "                        batch_size = 32, epochs = 25, verbose = 2)\n",
    "    \n",
    "    plot_history(history)\n",
    "    \n",
    "    model.summary()\n",
    "    "
   ]
  },
  {
   "cell_type": "code",
   "execution_count": 9,
   "metadata": {},
   "outputs": [
    {
     "name": "stdout",
     "output_type": "stream",
     "text": [
      "2629/2629 - 4s - loss: 2.4202 - accuracy: 0.3830\n"
     ]
    }
   ],
   "source": [
    "test_error, test_accuracy = model.evaluate(X_test, y_test, verbose = 2)\n",
    "\n",
    "\n"
   ]
  },
  {
   "cell_type": "code",
   "execution_count": 11,
   "metadata": {},
   "outputs": [
    {
     "name": "stdout",
     "output_type": "stream",
     "text": [
      "Expected index: [10], Predicted index:[18]\n"
     ]
    }
   ],
   "source": [
    "X = X_test[300]\n",
    "y = y_test[300]\n",
    "predict(model, X, y)"
   ]
  },
  {
   "cell_type": "code",
   "execution_count": null,
   "metadata": {},
   "outputs": [],
   "source": [
    "# save model\n",
    "model_json = model.to_json()\n",
    "with open('model.json', 'w') as json_file:\n",
    "    json_file.write(model_json)\n",
    "\n",
    "# save weights\n",
    "model.save_weights('model.h5')"
   ]
  }
 ],
 "metadata": {
  "kernelspec": {
   "display_name": "Python 3",
   "language": "python",
   "name": "python3"
  },
  "language_info": {
   "codemirror_mode": {
    "name": "ipython",
    "version": 3
   },
   "file_extension": ".py",
   "mimetype": "text/x-python",
   "name": "python",
   "nbconvert_exporter": "python",
   "pygments_lexer": "ipython3",
   "version": "3.7.3"
  }
 },
 "nbformat": 4,
 "nbformat_minor": 4
}
